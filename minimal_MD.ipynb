{
 "cells": [
  {
   "cell_type": "code",
   "execution_count": null,
   "id": "f0da2b95",
   "metadata": {},
   "outputs": [],
   "source": [
    "# libraries we'll use\n",
    "import numpy as np\n",
    "import matplotlib.pyplot as plt"
   ]
  },
  {
   "cell_type": "markdown",
   "id": "aa28fcdf",
   "metadata": {},
   "source": [
    "# MD code\n",
    "\n",
    "Consider a system of atoms interacting with a Lennard Jones potential function which acts between pairs of particles.\n",
    "\n",
    "$E_{LJ} (\\mathbf{r}) = 4 \\epsilon \\left[\\left( \\frac{\\sigma}{r}\\right)^{12} - \\left(\\frac{\\sigma}{r} \\right)^6 \\right]$\n",
    "\n",
    "in one dimension. Where $r$ is $ |r_i - r_j|$.\n",
    "\n",
    "The force on the particles is given by\n",
    "$F = -\\nabla E$"
   ]
  },
  {
   "cell_type": "markdown",
   "id": "77182292",
   "metadata": {},
   "source": [
    "## Parameters and starting conditions"
   ]
  },
  {
   "cell_type": "markdown",
   "id": "843693b8",
   "metadata": {},
   "source": [
    "now to setup the parameters"
   ]
  },
  {
   "cell_type": "code",
   "execution_count": null,
   "id": "4c6fa823",
   "metadata": {},
   "outputs": [],
   "source": [
    "nsteps = 1000\n",
    "dt = 0.1\n",
    "mass = 1.0\n",
    "output_freq = 100"
   ]
  },
  {
   "cell_type": "markdown",
   "id": "395ea898",
   "metadata": {},
   "source": [
    "We store positions etc as (N x 3) D arrays. First index is the atom number (starting from zero). The second index is the set of  cartesian directions for that atom.\n",
    "\n",
    "To add remove atoms you just add or remove a set of coordinates. The are python arrays [xi,yi,zi] and you need a comma between them. The outer []s make an array or arrays (2D array). "
   ]
  },
  {
   "cell_type": "code",
   "execution_count": null,
   "id": "3663ee9b",
   "metadata": {},
   "outputs": [],
   "source": [
    "#atoms = np.array([\n",
    "#    [0.0, 0.0, 0.0],\n",
    "#    [0.0,0.0,3.2],\n",
    "#    [0.0,0.0,6.4]]\n",
    "#)\n",
    "# set up the initial position of the atoms - we could do the same for velocities\n",
    "a = 3.1\n",
    "atoms = np.zeros((32,3))\n",
    "for i in range(32):\n",
    "    atoms[i,2] = i*a\n",
    "atoms\n",
    "\n",
    "natoms = len(atoms)"
   ]
  },
  {
   "cell_type": "markdown",
   "id": "2f360001",
   "metadata": {},
   "source": [
    "## The rest of the code actually does the calculation.\n",
    "\n",
    "We are going to store all the information about our system in a dictionary.\n",
    "\n",
    "Using a class would be another option."
   ]
  },
  {
   "cell_type": "code",
   "execution_count": null,
   "id": "0c7d34c5",
   "metadata": {},
   "outputs": [],
   "source": [
    "model = dict(natoms = natoms,\n",
    "             atoms = atoms,\n",
    "             vel = np.zeros((natoms,3)), \n",
    "             forcestp1 = np.zeros((natoms,3)),  \n",
    "             forcest = np.zeros((natoms,3)),  \n",
    "             pot_energy = [], \n",
    "             KE = [],\n",
    "             traj = [],\n",
    "             temp_pos = np.zeros((natoms,3)),\n",
    "             temp_vel = np.zeros((natoms,3)),\n",
    "             output_freq = output_freq,\n",
    "             integrator = 'vverlet'\n",
    ")"
   ]
  },
  {
   "cell_type": "markdown",
   "id": "cb7561fe",
   "metadata": {},
   "source": [
    "You can access the value of a dictionary using its key. "
   ]
  },
  {
   "cell_type": "code",
   "execution_count": null,
   "id": "330e2c0c",
   "metadata": {},
   "outputs": [],
   "source": [
    "model['atoms'];"
   ]
  },
  {
   "cell_type": "code",
   "execution_count": null,
   "id": "ae88e1af",
   "metadata": {},
   "outputs": [],
   "source": [
    "model['vel'];"
   ]
  },
  {
   "cell_type": "markdown",
   "id": "7fbd5653",
   "metadata": {},
   "source": [
    "Define our energy and force functions"
   ]
  },
  {
   "cell_type": "code",
   "execution_count": null,
   "id": "2dc3cccb",
   "metadata": {},
   "outputs": [],
   "source": [
    "def energyij(model, atomi, atomj, sigma=3, epsilon=0.1):\n",
    "    \"\"\"calculates the Lennard Jones potential energy of two particles\n",
    "    model - model data structure\n",
    "    atomi - index of atom i\n",
    "    atomj - index of atom j\n",
    "    \"\"\"\n",
    "    r = np.linalg.norm(model['atoms'][atomi] - model['atoms'][atomj])\n",
    "    u = 4*epsilon*((sigma/r)**12-(sigma/r)**6)\n",
    "    return u\n",
    "\n",
    "def forceij(model, atomi, atomj, sigma=3, epsilon=0.1):\n",
    "    \"\"\"calculates the Lennard Jones force between two particles\n",
    "    model - model data structure\n",
    "    atomi - index of atom i\n",
    "    atomj - index of atom j\n",
    "    returns forces on atom i, fi,  and atom j, fj\n",
    "    \"\"\"\n",
    "    #get magnitude and direction of forces - use Newton's 3rd law for fi = -fj \n",
    "    r = np.linalg.norm(model['atoms'][atomi] - model['atoms'][atomj])\n",
    "    dir = (model['atoms'][atomi] - model['atoms'][atomj])/r\n",
    "    #calc force magnitude\n",
    "    fr = -4*epsilon*(12*sigma**12*r**(-13)-6*sigma**6*r**(-7))\n",
    "    return -fr*dir, fr*dir"
   ]
  },
  {
   "cell_type": "code",
   "execution_count": null,
   "id": "1d3dd93c",
   "metadata": {},
   "outputs": [],
   "source": [
    "# add our potential energy model into the model\n",
    "# doing it like this makes it easy to swap in new force routines\n",
    "\n",
    "model['potential'] = energyij\n",
    "model['force'] = forceij"
   ]
  },
  {
   "cell_type": "code",
   "execution_count": null,
   "id": "5a29fde3",
   "metadata": {},
   "outputs": [],
   "source": [
    "def thermostat(model):\n",
    "\n",
    "    # langevin thermostat on all degrees of freedom\n",
    "    gamma = 0.1\n",
    "    kbT = 0.5\n",
    "    sigma = np.sqrt(2*gamma*kbT)\n",
    "    for atomi in range(model['natoms']):\n",
    "        model['forcestp1'][atomi] += -gamma*model['vel'][atomi] + sigma*np.random.normal(0, sigma)\n",
    "    "
   ]
  },
  {
   "cell_type": "markdown",
   "id": "d8782c79",
   "metadata": {},
   "source": [
    "If we have pair potential forces only dependent on the distance, $r_{ij}$ , between a pair of particles we have that\n",
    "$$\n",
    "\\mathbf{F_i} = \\frac{\\partial U}{\\partial r_{ij}} \\cdot \\frac{\\mathbf{r_{ij}}}{r_{ij}}\n",
    "$$\n",
    "and $\\mathbf{F_j} = -\\mathbf{F_i}$ (Newton's law or due to the change in sign of $\\mathbf{r_{ji}}$). \n",
    "\n",
    "If we have have multiple particles we should add up all the unique pairs of interactions: "
   ]
  },
  {
   "cell_type": "code",
   "execution_count": null,
   "id": "79b88355",
   "metadata": {},
   "outputs": [],
   "source": [
    "def calcForces(model):\n",
    "    energy = 0\n",
    "    # remember to reset forces at each step\n",
    "    model['forcestp1'][:] = 0.0\n",
    "    for atomi in range(model['natoms']):\n",
    "        #avoid double counting\n",
    "        for atomj in range(atomi+1, natoms):\n",
    "            energy += model['potential'](model, atomi, atomj)\n",
    "            fi, fj = model['force'](model,atomi,atomj)\n",
    "            model['forcestp1'][atomi] += fi\n",
    "            model['forcestp1'][atomj] += fj\n",
    "    #print(model['forcestp1'])\n",
    "\n",
    "    do_thermostat = False\n",
    "    if do_thermostat:\n",
    "        thermostat(model)\n",
    "        \n",
    "    return energy"
   ]
  },
  {
   "cell_type": "markdown",
   "id": "b4bee6db",
   "metadata": {},
   "source": [
    "Now the integration routines"
   ]
  },
  {
   "cell_type": "code",
   "execution_count": null,
   "id": "7874cf8f",
   "metadata": {},
   "outputs": [],
   "source": [
    "def integrate(model):\n",
    "    if model['integrator'] == 'Euler':\n",
    "        pot_energy = calcForces(model)\n",
    "        model['atoms'] += model['vel']*dt + 0.5*model['forcestp1']/mass*dt**2\n",
    "        model['vel'] += model['forcestp1']/mass*dt\n",
    "\n",
    "    elif model['integrator'] == 'vverlet':\n",
    "        model['forcest'] =  np.copy(model['forcestp1'])\n",
    "        model['atoms'] += model['vel']*dt + 0.5*model['forcest']/mass*dt**2\n",
    "        pot_energy = calcForces(model)\n",
    "        model['vel'] += 0.5*(model['forcest'] + model['forcestp1'])/mass*dt            \n",
    "\n",
    "    else:\n",
    "        print('no known integrator! falling back on Euler')\n",
    "        pot_energy = calcForces(model)\n",
    "        model['atoms'] += model['vel']*dt + 0.5*model['forcestp1']/mass*dt**2\n",
    "        model['vel'] += model['forcestp1']/mass*dt\n",
    "            \n",
    "    # calculate the Kinetic Energy\n",
    "    KE = 0    \n",
    "    for i in range(model['natoms']):\n",
    "        KE += np.dot(model['vel'][i],model['vel'][i])\n",
    "\n",
    "    return pot_energy, KE"
   ]
  },
  {
   "cell_type": "markdown",
   "id": "71a5e9be",
   "metadata": {},
   "source": [
    "## Run MD\n",
    "\n",
    "Now the actual main MD loop that integrates in time!"
   ]
  },
  {
   "cell_type": "code",
   "execution_count": null,
   "id": "96de4987",
   "metadata": {},
   "outputs": [],
   "source": [
    "#calc energy / forces\n",
    "calcForces(model)\n",
    "for step in range(nsteps):\n",
    "\n",
    "    # integrate\n",
    "    pot_energy, KE = integrate(model)\n",
    "    #print(model['forcestp1'])\n",
    "    \n",
    "    # save data\n",
    "    model['pot_energy'].append(pot_energy)\n",
    "    model['KE'].append(0.5*mass*KE)\n",
    "    \n",
    "    if not step%model['output_freq']:\n",
    "        print(\"step {}\".format(step))\n",
    "        # need to copy otherwise we just get a pointer to the latest temp_pos\n",
    "        model['traj'].append(np.copy(model['atoms']))    "
   ]
  },
  {
   "cell_type": "markdown",
   "id": "414d48fa",
   "metadata": {},
   "source": [
    "## Analyse our results\n",
    "\n",
    "At the end we have stored some information and can plot it out"
   ]
  },
  {
   "cell_type": "code",
   "execution_count": null,
   "id": "99187ccc",
   "metadata": {},
   "outputs": [],
   "source": [
    "plt.plot(model['pot_energy'], label='PE')\n",
    "plt.plot(np.array(model['KE']), label='KE')\n",
    "plt.plot(model['pot_energy'] + np.array(model['KE']), label='total')\n",
    "plt.legend()\n",
    "plt.savefig('test.jpg')"
   ]
  },
  {
   "cell_type": "code",
   "execution_count": null,
   "id": "cb48bf6e",
   "metadata": {},
   "outputs": [],
   "source": [
    "np.mean(model['KE'])"
   ]
  },
  {
   "cell_type": "code",
   "execution_count": null,
   "id": "9ac80d6c",
   "metadata": {},
   "outputs": [],
   "source": [
    "plt.plot(np.array(model['KE']))"
   ]
  },
  {
   "cell_type": "markdown",
   "id": "19515e33",
   "metadata": {},
   "source": [
    "Of course a lot more can be done."
   ]
  },
  {
   "cell_type": "code",
   "execution_count": null,
   "id": "805009e2",
   "metadata": {},
   "outputs": [],
   "source": [
    "model['traj'];"
   ]
  }
 ],
 "metadata": {
  "kernelspec": {
   "display_name": "Python 3 (ipykernel)",
   "language": "python",
   "name": "python3"
  },
  "language_info": {
   "codemirror_mode": {
    "name": "ipython",
    "version": 3
   },
   "file_extension": ".py",
   "mimetype": "text/x-python",
   "name": "python",
   "nbconvert_exporter": "python",
   "pygments_lexer": "ipython3",
   "version": "3.8.13"
  }
 },
 "nbformat": 4,
 "nbformat_minor": 5
}
