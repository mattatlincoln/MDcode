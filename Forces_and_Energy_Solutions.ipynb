{
 "cells": [
  {
   "cell_type": "markdown",
   "id": "78dbbba9",
   "metadata": {},
   "source": [
    "# Forces and energy\n",
    "\n",
    "In Molecular dynamics the the potential energy of the system is normally considered to be a function of the positions, $\\mathbf{r}_i = \\hat{x} x_i + \\hat{y} y_i + \\hat{z} z_i$ where $\\hat{x}, \\hat{y}, \\hat{z}$ are unit vectors in $x,y,z$, of all the atoms in the system. \n",
    "$$\n",
    "U_{system}(\\mathbf{r}_0, \\mathbf{r}_1, .. \\mathbf{r}_{N-1})\n",
    "$$\n",
    "\n",
    "To find the forces on a given atom we need to consider the partial derivatives of the potential energy function with respect to the coordinates of that atom:,\n",
    "$$f_i = -\\mathbf{\\nabla}_i U_{system}(\\mathbf{r}_0, \\mathbf{r}_1, .. \\mathbf{r}_{N-1})$$\n",
    "\n",
    "where the derivative is the grad of the potential energy with respect to the coordinates of the ith atom.\n",
    "$$\n",
    "\\mathbf{\\nabla}_i U_{system} = \\hat{x} \\frac {\\delta U_{system}}{\\delta x_i} + \\hat{y} \\frac {\\delta U_{system}}{\\delta y_i} + \\hat{z} \\frac {\\delta U_{system}}{\\delta z_i}\n",
    "$$\n",
    "\n",
    "In general, evaluating these forces could be very complicated."
   ]
  },
  {
   "cell_type": "markdown",
   "id": "3dbb1f1f",
   "metadata": {},
   "source": [
    "# Exercises\n",
    "\n",
    "- pen and paper! Prove (using the chain rule i.e. $\\frac{\\delta U}{\\delta x_i} = \\frac{\\delta U}{\\delta r} \\frac{\\delta r}{\\delta x}$) that $\\nabla_i U(r) = \\hat{r} \\frac{\\delta U(r)}{\\delta r}$\n",
    "- write python functions to calculate the magnitude and unit vector connecting a pair of atoms\n",
    "- write python functions to evaluate the energy and force of a pair of atoms interacting via a harmonic potential\n",
    "- write python functions to evaluate the energy and force of a pair of atoms interacting via a LJ potential\n",
    "- calculate the energy and forces of a system of 3 (or more) atoms interacting via LJ potentials using SI units and assume the atoms are hydrogen like (hydrogen mass). Assume $\\sigma = 1 \\textrm{ eV}$ and $r = 0.1 \\textrm{ nm}$\n",
    "- Are SI units a good choice here?"
   ]
  },
  {
   "cell_type": "code",
   "execution_count": 1,
   "id": "a62ad129",
   "metadata": {},
   "outputs": [],
   "source": [
    "import numpy as np"
   ]
  },
  {
   "cell_type": "markdown",
   "id": "d0530097",
   "metadata": {},
   "source": [
    "## Python functions to calculate the magnitude and unit vector connecting a pair of atoms\n"
   ]
  },
  {
   "cell_type": "code",
   "execution_count": 2,
   "id": "223cd546",
   "metadata": {},
   "outputs": [
    {
     "name": "stdout",
     "output_type": "stream",
     "text": [
      "test vec length is 1.4142135623730951 it should be 1.4142135623730951\n"
     ]
    }
   ],
   "source": [
    "def calcr(vec):\n",
    "    \"\"\"\n",
    "    calculates the length of a vector\n",
    "    returns r the vector length\n",
    "    \"\"\"\n",
    "    r = np.sqrt(np.dot(vec,vec))\n",
    "    return r\n",
    "    \n",
    "def test_calcr():\n",
    "    \"\"\"\n",
    "    tests the calcr function\n",
    "    \"\"\"\n",
    "    testvec = np.array([1.0,1.0,0])\n",
    "    testr = calcr(testvec)\n",
    "    print(\"test vec length is {} it should be {}\".format(testr, np.sqrt(2)))\n",
    "    \n",
    "test_calcr()"
   ]
  },
  {
   "cell_type": "code",
   "execution_count": 3,
   "id": "34465611",
   "metadata": {},
   "outputs": [
    {
     "name": "stdout",
     "output_type": "stream",
     "text": [
      "test unitvec  is [0.70710678 0.70710678 0.        ] it should be [ 0.707107 0.707107 0 ]\n"
     ]
    }
   ],
   "source": [
    "def unitvec(vec):\n",
    "    \"\"\"\n",
    "    returns a unit vector in the direction of the original vector\n",
    "    \"\"\"\n",
    "    unitvec = vec/calcr(vec)\n",
    "    return unitvec\n",
    "\n",
    "def test_unitvec():\n",
    "    \"\"\"\n",
    "    tests the unit vec function\n",
    "    \"\"\"\n",
    "    testvec = np.array([1.0,1.0,0])\n",
    "    test_unitvec = unitvec(testvec)\n",
    "    print(\"test unitvec  is {} it should be [ {:.6f} {:.6f} 0 ]\".format(test_unitvec, 1/np.sqrt(2), 1/np.sqrt(2)))   \n",
    "    \n",
    "test_unitvec()"
   ]
  },
  {
   "cell_type": "markdown",
   "id": "1e5da800",
   "metadata": {},
   "source": [
    "## Energy and force from a harmonic potential"
   ]
  },
  {
   "cell_type": "code",
   "execution_count": 4,
   "id": "a28be3d1",
   "metadata": {},
   "outputs": [
    {
     "name": "stdout",
     "output_type": "stream",
     "text": [
      "harmonic energy is 0.0 it should be zero\n"
     ]
    }
   ],
   "source": [
    "def harmpot(posi, posj, k, r0):\n",
    "    \"\"\"\n",
    "    calculates the energy between particle i at posi and particle j at posj interacting via a harmonic pot\n",
    "    returns Eharm = 1/2k(r-r0)^2\n",
    "    \"\"\"\n",
    "    r = calcr(posi-posj)\n",
    "    Eharm = 0.5*k*(r-r0)**2\n",
    "    return Eharm\n",
    "\n",
    "def test_harmpot():\n",
    "    posi = np.array([0.0,0.0,0.0])\n",
    "    posj = np.array([0.0,0.0,1.0])\n",
    "    test_Eharm = harmpot(posi, posj, 1.0, 1.0)\n",
    "    print(\"harmonic energy is {} it should be zero\".format(test_Eharm))\n",
    "\n",
    "test_harmpot()"
   ]
  },
  {
   "cell_type": "code",
   "execution_count": null,
   "id": "849f5852",
   "metadata": {},
   "outputs": [],
   "source": [
    "def harmf(posi, posj, k, r0):\n",
    "    \"\"\"\n",
    "    returns the force vector between particle i at posi and particle j at posj interacting via a harmonic pot\n",
    "    returns Ef = k(r-r0)*r^hat\n",
    "    \"\"\"\n",
    "    r = calcr(posi-posj)\n",
    "    rhat = unitvec(posi-posj)\n",
    "    Ef = k*(r-r0)*rhat\n",
    "    return Ef\n",
    "\n",
    "def test_harmf():\n",
    "    \"\"\"\n",
    "    simple test for the harmonic force routine\n",
    "    add more tests below\n",
    "    \"\"\"\n",
    "    posi = np.array([0.0,0.0,0.0])\n",
    "    posj = np.array([0.0,0.0,1.0])\n",
    "    test_harmf = harmf(posi, posj, 1.0, 1.0)\n",
    "    print(\"harmonic force is {} it should be the zero vector\".format(test_harmf))\n",
    "    \n",
    "test_harmf()"
   ]
  }
 ],
 "metadata": {
  "kernelspec": {
   "display_name": "Python 3 (ipykernel)",
   "language": "python",
   "name": "python3"
  },
  "language_info": {
   "codemirror_mode": {
    "name": "ipython",
    "version": 3
   },
   "file_extension": ".py",
   "mimetype": "text/x-python",
   "name": "python",
   "nbconvert_exporter": "python",
   "pygments_lexer": "ipython3",
   "version": "3.9.16"
  }
 },
 "nbformat": 4,
 "nbformat_minor": 5
}
