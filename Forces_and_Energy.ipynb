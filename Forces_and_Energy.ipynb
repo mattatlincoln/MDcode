{
 "cells": [
  {
   "cell_type": "markdown",
   "id": "7ce54791",
   "metadata": {},
   "source": [
    "# Forces and energy\n",
    "\n",
    "In Molecular dynamics the the potential energy of the system is normally considered to be a function of the positions, $\\mathbf{r}_i = \\hat{x} x_i + \\hat{y} y_i + \\hat{z} z_i$ where $\\hat{x}, \\hat{y}, \\hat{z}$ are unit vectors in $x,y,z$, of all the atoms in the system. \n",
    "$$\n",
    "U_{system}(\\mathbf{r}_0, \\mathbf{r}_1, .. \\mathbf{r}_{N-1})\n",
    "$$\n",
    "\n",
    "To find the forces on a given atom we need to consider the partial derivatives of the potential energy function with respect to the coordinates of that atom:,\n",
    "$$f_i = -\\mathbf{\\nabla}_i U_{system}(\\mathbf{r}_0, \\mathbf{r}_1, .. \\mathbf{r}_{N-1})$$\n",
    "\n",
    "where the derivative is the grad of the potential energy with respect to the coordinates of the ith atom.\n",
    "$$\n",
    "\\mathbf{\\nabla}_i U_{system} = \\hat{x} \\frac {\\delta U_{system}}{\\delta x_i} + \\hat{y} \\frac {\\delta U_{system}}{\\delta y_i} + \\hat{z} \\frac {\\delta U_{system}}{\\delta z_i}\n",
    "$$\n",
    "\n",
    "In general, evaluating these forces could be very complicated."
   ]
  },
  {
   "cell_type": "markdown",
   "id": "5e4cdf97",
   "metadata": {},
   "source": [
    "### distance between the atoms\n",
    "\n",
    "for clarity $r_{ij} = r$ is the distance between the two atoms, so the magnitude of the difference vector between them:\n",
    "\n",
    "$$\n",
    "r = \\lvert \\mathbf{r}_i - \\mathbf{r}_j \\lvert = \\sqrt{(x_i- x_j)^2 + (y_i- y_j)^2 + (z_i- z_j)^2}\n",
    "$$"
   ]
  },
  {
   "cell_type": "markdown",
   "id": "91e860b4",
   "metadata": {},
   "source": [
    "## Functional forms for the potential energy\n",
    "\n",
    "The partial derivatives that we need are much simpler in the case that the total energy is split up into a sum of terms so that each term in the sum only depends on a smaller number of atomic coordinates.\n",
    "\n",
    "### Pair potential functions\n",
    "\n",
    "Pair potential functions (pair potentials I will often refer to them as) depend only on the positions of two atoms. Examples could be a harmonic potential between atoms i and j:\n",
    "$$\n",
    "U_{harmonic}(\\mathbf{r}_i,\\mathbf{r}_j) = U_{harmonic}(r) = \\frac{1}{2}k(r-r_{eq})^2\n",
    "$$\n",
    "}where r is the distance between the two atoms, $r_{eq}$ is the equilibrium position (lowest potential energy) of the pair of atoms, and k is a 'spring' constant that controls how strong the bond is.\n",
    "\n",
    "Another example is the Lennard-Jones potential:\n",
    "$$\n",
    "U_{LJ}(r_i,r_j) = U_{LJ}(r) = 4 \\epsilon \\bigg(\\bigg(\\frac{\\sigma}{r}\\bigg)^{12} - \\bigg(\\frac{\\sigma}{r}\\bigg)^6 \\bigg)\n",
    "$$\n",
    "where $\\epsilon$ and $\\sigma$ are parameters with dimensions of energy and distance.\n",
    "\n",
    "### Forces from a potential that is U(r) \n",
    "\n",
    "In the case that the potential only depends on $r$ the force expression is simpler - we have\n",
    "\n",
    "$$\n",
    "\\nabla_i U(r) = \\hat{r} \\frac{\\delta U(r)}{\\delta r}\n",
    "$$\n",
    "\n",
    "where $$\\hat r = \\frac{\\mathbf{r}_i - \\mathbf{r}_j}{r}$$ \n",
    "\n",
    "Note that this means that\n",
    "\n",
    "$$\n",
    "\\nabla_i = -\\nabla_j\n",
    "$$"
   ]
  },
  {
   "cell_type": "markdown",
   "id": "f1d3cc52",
   "metadata": {},
   "source": [
    "# Exercises\n",
    "\n",
    "- pen and paper! Prove (using the chain rule i.e. $\\frac{\\delta U}{\\delta x_i} = \\frac{\\delta U}{\\delta r} \\frac{\\delta r}{\\delta x}$) that $\\nabla_i U(r) = \\hat{r} \\frac{\\delta U(r)}{\\delta r}$\n",
    "- write python functions to calculate the magnitude and unit vector connecting a pair of atoms\n",
    "- write python functions to evaluate the energy and force of a pair of atoms interacting via a harmonic potential\n",
    "- write python functions to evaluate the energy and force of a pair of atoms interacting via a LJ potential\n",
    "- calculate the energy and forces of a system of 3 (or more) atoms interacting via LJ potentials using SI units and assume the atoms are hydrogen like (hydrogen mass). Assume $\\sigma = 1 \\textrm{ eV}$ and $r = 0.1 \\textrm{ nm}$\n",
    "- Are SI units a good choice here?"
   ]
  },
  {
   "cell_type": "code",
   "execution_count": 1,
   "id": "3b70cdcd",
   "metadata": {},
   "outputs": [],
   "source": [
    "import numpy as np"
   ]
  },
  {
   "cell_type": "code",
   "execution_count": 3,
   "id": "8077ad6d",
   "metadata": {},
   "outputs": [
    {
     "name": "stdout",
     "output_type": "stream",
     "text": [
      "test vec length is some value it should be 1.4142135623730951\n"
     ]
    }
   ],
   "source": [
    "def calcr(vec):\n",
    "    \"\"\"\n",
    "    calculates the length of a vector\n",
    "    returns r the vector length\n",
    "    \"\"\"\n",
    "    r = \"some value\"\n",
    "    return r\n",
    "    \n",
    "def test_calcr():\n",
    "    \"\"\"\n",
    "    tests the calcr function\n",
    "    \"\"\"\n",
    "    testvec = np.array([1.0,1.0,0])\n",
    "    testr = calcr(testvec)\n",
    "    print(\"test vec length is {} it should be {}\".format(testr, np.sqrt(2)))\n",
    "    \n",
    "test_calcr()"
   ]
  },
  {
   "cell_type": "code",
   "execution_count": 4,
   "id": "80136fa3",
   "metadata": {},
   "outputs": [
    {
     "name": "stdout",
     "output_type": "stream",
     "text": [
      "test unitvec  is something it should be [ 0.707107 0.707107 0 ]\n"
     ]
    }
   ],
   "source": [
    "def unitvec(vec):\n",
    "    \"\"\"\n",
    "    returns a unit vector in the direction of the original vector\n",
    "    \"\"\"\n",
    "    unitvec = \"something\"\n",
    "    return unitvec\n",
    "\n",
    "def test_unitvec():\n",
    "    \"\"\"\n",
    "    tests the unit vec function\n",
    "    \"\"\"\n",
    "    testvec = np.array([1.0,1.0,0])\n",
    "    test_unitvec = unitvec(testvec)\n",
    "    print(\"test unitvec  is {} it should be [ {:.6f} {:.6f} 0 ]\".format(test_unitvec, 1/np.sqrt(2), 1/np.sqrt(2)))   \n",
    "    \n",
    "test_unitvec()"
   ]
  },
  {
   "cell_type": "code",
   "execution_count": 5,
   "id": "761a3fd4",
   "metadata": {},
   "outputs": [
    {
     "name": "stdout",
     "output_type": "stream",
     "text": [
      "harmonic energy is somthing it should be zero\n"
     ]
    }
   ],
   "source": [
    "def harmpot(posi, posj, k, r0):\n",
    "    \"\"\"\n",
    "    calculates the energy between particle i at posi and particle j at posj interacting via a harmonic pot\n",
    "    returns Eharm = 1/2k(r-r0)^2\n",
    "    \"\"\"\n",
    "    Eharm = \"somthing\"\n",
    "    return Eharm\n",
    "\n",
    "def test_harmpot():\n",
    "    posi = np.array([0.0,0.0,0.0])\n",
    "    posj = np.array([0.0,0.0,1.0])\n",
    "    test_Eharm = harmpot(posi, posj, 1.0, 1.0)\n",
    "    print(\"harmonic energy is {} it should be zero\".format(test_Eharm))\n",
    "\n",
    "test_harmpot()"
   ]
  },
  {
   "cell_type": "code",
   "execution_count": 6,
   "id": "4a589f7c",
   "metadata": {},
   "outputs": [
    {
     "name": "stdout",
     "output_type": "stream",
     "text": [
      "harmonic force is ??? it should be the zero vector\n"
     ]
    }
   ],
   "source": [
    "def harmf(posi, posj, k, r0):\n",
    "    \"\"\"\n",
    "    returns the force vector between particle i at posi and particle j at posj interacting via a harmonic pot\n",
    "    returns Ef = k(r-r0)*r^hat\n",
    "    \"\"\"\n",
    "    Ef = \"???\"\n",
    "    return Ef\n",
    "\n",
    "def test_harmf():\n",
    "    \"\"\"\n",
    "    simple test for the harmonic force routine\n",
    "    add more tests below\n",
    "    \"\"\"\n",
    "    posi = np.array([0.0,0.0,0.0])\n",
    "    posj = np.array([0.0,0.0,1.0])\n",
    "    test_harmf = harmf(posi, posj, 1.0, 1.0)\n",
    "    print(\"harmonic force is {} it should be the zero vector\".format(test_harmf))\n",
    "    \n",
    "test_harmf()"
   ]
  },
  {
   "cell_type": "code",
   "execution_count": 7,
   "id": "843faaea",
   "metadata": {},
   "outputs": [],
   "source": [
    "def calcr(vec):\n",
    "    \"\"\"\n",
    "    calculates the length of a vector\n",
    "    returns r the vector length\n",
    "    \"\"\"\n",
    "    r2 = vec[0]**2 + vec[1]**2 + vec[2]**2\n",
    "    r = np.sqrt(r2)\n",
    "    return r"
   ]
  },
  {
   "cell_type": "code",
   "execution_count": 20,
   "id": "ff7b9ddd",
   "metadata": {},
   "outputs": [],
   "source": [
    "myvec = np.array([1.0, 1.0, 2.0])"
   ]
  },
  {
   "cell_type": "code",
   "execution_count": 21,
   "id": "0e9633bb",
   "metadata": {},
   "outputs": [],
   "source": [
    "r = calcr(myvec)"
   ]
  },
  {
   "cell_type": "code",
   "execution_count": 22,
   "id": "21f80e3b",
   "metadata": {},
   "outputs": [
    {
     "name": "stdout",
     "output_type": "stream",
     "text": [
      "2.449489742783178\n"
     ]
    }
   ],
   "source": [
    "print(r)"
   ]
  },
  {
   "cell_type": "code",
   "execution_count": 23,
   "id": "c1fa6c18",
   "metadata": {},
   "outputs": [],
   "source": [
    "def calc_rhat(vec):\n",
    "    r = calcr(vec)\n",
    "    rhat = vec/r\n",
    "    return rhat"
   ]
  },
  {
   "cell_type": "code",
   "execution_count": 25,
   "id": "92c8c3d2",
   "metadata": {},
   "outputs": [],
   "source": [
    "rhat = calc_rhat(myvec)"
   ]
  },
  {
   "cell_type": "code",
   "execution_count": 26,
   "id": "94e59665",
   "metadata": {},
   "outputs": [
    {
     "data": {
      "text/plain": [
       "1.0000000000000002"
      ]
     },
     "execution_count": 26,
     "metadata": {},
     "output_type": "execute_result"
    }
   ],
   "source": [
    "np.dot(rhat, rhat)"
   ]
  },
  {
   "cell_type": "code",
   "execution_count": null,
   "id": "1fa0d38b",
   "metadata": {},
   "outputs": [],
   "source": []
  }
 ],
 "metadata": {
  "kernelspec": {
   "display_name": "Python 3 (ipykernel)",
   "language": "python",
   "name": "python3"
  },
  "language_info": {
   "codemirror_mode": {
    "name": "ipython",
    "version": 3
   },
   "file_extension": ".py",
   "mimetype": "text/x-python",
   "name": "python",
   "nbconvert_exporter": "python",
   "pygments_lexer": "ipython3",
   "version": "3.9.16"
  }
 },
 "nbformat": 4,
 "nbformat_minor": 5
}
