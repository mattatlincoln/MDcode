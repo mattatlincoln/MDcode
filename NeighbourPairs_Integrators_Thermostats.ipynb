{
 "cells": [
  {
   "cell_type": "markdown",
   "id": "f590900b",
   "metadata": {},
   "source": [
    "# Towards a working minimal MD code\n",
    "\n",
    "I have uploaded what is close to a working MD code as well as these notes.\n",
    "\n",
    "It is inefficient and maybe well contain some errors!\n",
    "\n",
    "You should now be close to having the knowhow to look through it and make changes / rewrite in your own style.\n",
    "\n",
    "This notebook just contains brief notes on the final elements I have added to get a working code \n",
    "\n",
    "<div class=\"alert alert-block alert-danger\">\n",
    "Note the functions here won't work on their own but need to be combined with other elements we looked at previously. \n",
    "</div>"
   ]
  },
  {
   "cell_type": "markdown",
   "id": "88a9fd1a",
   "metadata": {},
   "source": [
    "# Neighbour list\n",
    "\n",
    "there are different ways of doing this but you want to be able to build / compute a list of the forces you need to calculate.\n",
    "The idea is to come up with a list of atom pairs (for pair potentials) that we need to calcule forces for.\n",
    "\n",
    "The most brute force is to consider all atom pairs explicitly.\n",
    "\n",
    "Next we can identify that $f_{ij} = -f_{ji}$ so don't need to actually do both calculations!\n",
    "\n",
    "Later on we can consider truncating the interactions to a finite range and ignoring particles that are too far away - this can allow significant speed ups but isn't essential to start with:"
   ]
  },
  {
   "cell_type": "code",
   "execution_count": null,
   "id": "0b39b667",
   "metadata": {},
   "outputs": [],
   "source": [
    "def calcForces(model):\n",
    "    energy = 0\n",
    "    # remember to reset forces at each step\n",
    "    model['forcestp1'][:] = 0.0\n",
    "    for atomi in range(model['natoms']):\n",
    "        #avoid double counting\n",
    "        for atomj in range(atomi+1, natoms):\n",
    "            energy += model['potential'](model, atomi, atomj)\n",
    "            fi, fj = forceij(model,atomi,atomj)\n",
    "            model['forcestp1'][atomi] += fi\n",
    "            model['forcestp1'][atomj] += fj\n",
    "    #print(model['forcestp1'])\n",
    "    \n",
    "    do_thermostat = False\n",
    "    if do_thermostat:\n",
    "        thermostat(model)\n",
    "    \n",
    "    return energy"
   ]
  },
  {
   "cell_type": "markdown",
   "id": "a7a70c01",
   "metadata": {},
   "source": [
    "# Integrator\n",
    "\n",
    "we need to be able to integrate our equations of motion in time. We do this numerically for which there are a plethora of algorithms available. Generally, there is a trade off between accuracy of integration and efficiency. Standard for atomistic MD simulations is the velocity verlet algorithm.\n",
    "\n",
    "We can start off with a simple explicit Euler routine:"
   ]
  },
  {
   "cell_type": "code",
   "execution_count": null,
   "id": "d1fb39b8",
   "metadata": {},
   "outputs": [],
   "source": [
    "def integrate(model):\n",
    "    if model['integrator'] == 'Euler':\n",
    "        pot_energy = calcForces(model)\n",
    "        model['atoms'] += model['vel']*dt + 0.5*model['forcestp1']/mass*dt**2\n",
    "        model['vel'] += model['forcestp1']/mass*dt\n",
    "\n",
    "    elif model['integrator'] == 'vverlet':\n",
    "        model['forcest'] =  np.copy(model['forcestp1'])\n",
    "        model['atoms'] += model['vel']*dt + 0.5*model['forcest']/mass*dt**2\n",
    "        pot_energy = calcForces(model)\n",
    "        model['vel'] += 0.5*(model['forcest'] + model['forcestp1'])/mass*dt            \n",
    "\n",
    "    else:\n",
    "        print('no known integrator! falling back on Euler')\n",
    "        pot_energy = calcForces(model)\n",
    "        model['atoms'] += model['vel']*dt + 0.5*model['forcestp1']/mass*dt**2\n",
    "        model['vel'] += model['forcestp1']/mass*dt\n",
    "            \n",
    "    # calculate the Kinetic Energy\n",
    "    KE = 0    \n",
    "    for i in range(model['natoms']):\n",
    "        KE += np.dot(model['vel'][i],model['vel'][i])\n",
    "\n",
    "    return pot_energy, KE"
   ]
  },
  {
   "cell_type": "markdown",
   "id": "42bf5f7c",
   "metadata": {},
   "source": [
    "## Thermostat\n",
    "\n",
    "Our simple system evolving according to Newton's equations of motion is completely isolated from the outside world. This means it has no means of exchanging energy with its environment. Consequently, the total energy of the system should be exactly conserved thoughout the simulation. Of course, it will not be exactly in a numerical simulation but it should be to a good approximation and with many thousands of times smaller fluctuation that in the potential or kinetic energy of the system.\n",
    "\n",
    "If we want to approximate the effect of the system being able to exchange energy with its environment we need to artificially alter the motion of the particles so that they correspond to one of the ensembles from Statistical Mechanics that are characteristic of a small system in equilibrium with the larger whole, generally defined by the temperature. \n",
    "\n",
    "There are a number of thermostats used in the literature - see suggested reading for further details.\n",
    "Here is an implementation of the Langevin thermostat on all the degrees of freedom"
   ]
  },
  {
   "cell_type": "code",
   "execution_count": null,
   "id": "114e07d7",
   "metadata": {},
   "outputs": [],
   "source": [
    "def thermostat(model):\n",
    "\n",
    "    # langevin thermostat on all degrees of freedom\n",
    "    gamma = 0.1\n",
    "    kbT = 0.5\n",
    "    sigma = np.sqrt(2*gamma*kbT)\n",
    "    for atomi in range(model['natoms']):\n",
    "        model['forcestp1'][atomi] += -gamma*model['vel'][atomi] + sigma*np.random.normal(0, sigma)"
   ]
  }
 ],
 "metadata": {
  "kernelspec": {
   "display_name": "Python 3 (ipykernel)",
   "language": "python",
   "name": "python3"
  },
  "language_info": {
   "codemirror_mode": {
    "name": "ipython",
    "version": 3
   },
   "file_extension": ".py",
   "mimetype": "text/x-python",
   "name": "python",
   "nbconvert_exporter": "python",
   "pygments_lexer": "ipython3",
   "version": "3.8.13"
  }
 },
 "nbformat": 4,
 "nbformat_minor": 5
}
